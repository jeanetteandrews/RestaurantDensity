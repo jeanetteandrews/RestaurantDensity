{
 "cells": [
  {
   "cell_type": "markdown",
   "metadata": {},
   "source": [
    "# Chain vs. Non-Chain Analysis"
   ]
  },
  {
   "cell_type": "markdown",
   "metadata": {},
   "source": [
    "## Chi-Squared Test"
   ]
  },
  {
   "cell_type": "code",
   "execution_count": 8,
   "metadata": {},
   "outputs": [],
   "source": [
    "import pandas as pd\n",
    "import numpy as np\n",
    "from scipy import stats"
   ]
  },
  {
   "cell_type": "code",
   "execution_count": 9,
   "metadata": {},
   "outputs": [],
   "source": [
    "restaurants = pd.read_csv('final_restaurants.csv')"
   ]
  },
  {
   "cell_type": "code",
   "execution_count": 10,
   "metadata": {},
   "outputs": [
    {
     "data": {
      "text/plain": [
       "1.4259027842371983e-38"
      ]
     },
     "execution_count": 10,
     "metadata": {},
     "output_type": "execute_result"
    }
   ],
   "source": [
    "contingency = list()\n",
    "\n",
    "for code in restaurants['Code'].unique():\n",
    "    chains = restaurants[restaurants['Code']==code]['is chain'].sum()\n",
    "    indie = restaurants[restaurants['Code']==code]['is chain'].count() - chains\n",
    "    if chains != 0 and indie != 0:\n",
    "        contingency.append([indie, chains])\n",
    "        \n",
    "chi2res = stats.chi2_contingency(contingency)\n",
    "chi2res[1]\n",
    "# extremely small p-value, reject that values are independent across categories."
   ]
  },
  {
   "cell_type": "markdown",
   "metadata": {},
   "source": [
    "## Random Forest Classifier"
   ]
  },
  {
   "cell_type": "code",
   "execution_count": 12,
   "metadata": {},
   "outputs": [],
   "source": [
    "enc_rests = pd.read_csv('hot_encoded_rests.csv')"
   ]
  },
  {
   "cell_type": "code",
   "execution_count": 34,
   "metadata": {},
   "outputs": [],
   "source": [
    "rests = pd.read_csv('final_restaurants_v2.csv')"
   ]
  },
  {
   "cell_type": "code",
   "execution_count": 103,
   "metadata": {},
   "outputs": [],
   "source": [
    "all = rests.merge(enc_rests, on=['lat','lon'])"
   ]
  },
  {
   "cell_type": "code",
   "execution_count": 108,
   "metadata": {},
   "outputs": [],
   "source": [
    "all = all[['lat','lon','name_x','address','place' ,'place_id' ,'code_y','price_level_y','rating_y','user_ratings_total_y','amenity_y','amenity_label','bar','bistro','cafe','fast_food','ice_cream','juice_bar','pub','restaurant','is_chain_y','chain_label','chain_False','chain_True']]"
   ]
  },
  {
   "cell_type": "code",
   "execution_count": 140,
   "metadata": {
    "scrolled": false
   },
   "outputs": [],
   "source": [
    "all = all.rename({'name_x': 'name','code_y':'code','price_level_y': 'price_level','rating_y': 'rating','user_ratings_total_y': 'user_ratings_total','amenity_y':'amenity','is_chain_y':'is_chain'}, axis=1)"
   ]
  },
  {
   "cell_type": "code",
   "execution_count": 186,
   "metadata": {},
   "outputs": [
    {
     "name": "stdout",
     "output_type": "stream",
     "text": [
      "0.8201732042791645\n",
      "0.8183206106870229\n"
     ]
    }
   ],
   "source": [
    "from sklearn.model_selection import train_test_split\n",
    "from sklearn.ensemble import RandomForestClassifier\n",
    "\n",
    "X = all[['lat', 'lon', 'rating','amenity_label']].values\n",
    "y = all['is_chain'].values\n",
    "\n",
    "X_train, X_valid, y_train, y_valid = train_test_split(X, y)\n",
    "\n",
    "model = RandomForestClassifier(n_estimators=100,\n",
    "        max_depth=5, min_samples_leaf=12)\n",
    "model.fit(X_train, y_train)\n",
    "print(model.score(X_train, y_train))\n",
    "print(model.score(X_valid, y_valid))"
   ]
  }
 ],
 "metadata": {
  "kernelspec": {
   "display_name": "Python 3",
   "language": "python",
   "name": "python3"
  },
  "language_info": {
   "codemirror_mode": {
    "name": "ipython",
    "version": 3
   },
   "file_extension": ".py",
   "mimetype": "text/x-python",
   "name": "python",
   "nbconvert_exporter": "python",
   "pygments_lexer": "ipython3",
   "version": "3.7.7"
  }
 },
 "nbformat": 4,
 "nbformat_minor": 4
}

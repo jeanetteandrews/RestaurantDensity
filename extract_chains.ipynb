{
 "cells": [
  {
   "cell_type": "code",
   "execution_count": 14,
   "metadata": {},
   "outputs": [],
   "source": [
    "#https://www.datacamp.com/community/tutorials/fuzzy-string-python\n",
    "#https://towardsdatascience.com/how-to-do-fuzzy-matching-in-python-pandas-dataframe-6ce3025834a6\n",
    "#https://towardsdatascience.com/fuzzywuzzy-find-similar-strings-within-one-column-in-a-pandas-data-frame-99f6c2a0c212\n",
    "import pandas as pd\n",
    "import numpy as np\n",
    "from fuzzywuzzy import process, fuzz"
   ]
  },
  {
   "cell_type": "code",
   "execution_count": 27,
   "metadata": {},
   "outputs": [
    {
     "name": "stderr",
     "output_type": "stream",
     "text": [
      "<ipython-input-27-30a22918ea21>:5: SettingWithCopyWarning: \n",
      "A value is trying to be set on a copy of a slice from a DataFrame.\n",
      "Try using .loc[row_indexer,col_indexer] = value instead\n",
      "\n",
      "See the caveats in the documentation: https://pandas.pydata.org/pandas-docs/stable/user_guide/indexing.html#returning-a-view-versus-a-copy\n",
      "  restaurants['name'] = restaurants['name'].str.lower()\n"
     ]
    }
   ],
   "source": [
    "OSM = pd.read_json('amenities-vancouver.json.gz', lines=True)\n",
    "rest_list = ['cafe', 'fast_food', 'bbq', 'restaurant', 'pub',\n",
    "       'bar', 'ice_cream', 'bistro', 'juice_bar']\n",
    "restaurants = OSM[OSM.amenity.isin(rest_list)]\n",
    "restaurants['name'] = restaurants['name'].str.lower()\n",
    "restaurants = restaurants[~restaurants.name.isnull()] #remove null names"
   ]
  },
  {
   "cell_type": "code",
   "execution_count": 28,
   "metadata": {},
   "outputs": [],
   "source": [
    "chains_text = open(\"canadian_chains.txt\", \"r\")\n",
    "chainList = chains_text.read().split('\\n')\n",
    "chainList = [item.lower() for item in chainList]\n",
    "#chainList"
   ]
  },
  {
   "cell_type": "code",
   "execution_count": 33,
   "metadata": {},
   "outputs": [
    {
     "name": "stdout",
     "output_type": "stream",
     "text": [
      "5063\n"
     ]
    }
   ],
   "source": [
    "cnt = 0\n",
    "def match_chains(str2Match):\n",
    "    #print(str2Match)\n",
    "    global cnt\n",
    "    cnt+=1\n",
    "    Ratios = process.extract(str2Match, chainList)\n",
    "    #print(Ratios)\n",
    "    \n",
    "Ratios = np.vectorize(match_chains)(restaurants['name'])\n",
    "#Ratios = process.extract(str2Match, chainList)\n",
    "#print(Ratios)\n",
    "print(cnt)"
   ]
  },
  {
   "cell_type": "code",
   "execution_count": null,
   "metadata": {},
   "outputs": [],
   "source": []
  }
 ],
 "metadata": {
  "kernelspec": {
   "display_name": "Python 3",
   "language": "python",
   "name": "python3"
  },
  "language_info": {
   "codemirror_mode": {
    "name": "ipython",
    "version": 3
   },
   "file_extension": ".py",
   "mimetype": "text/x-python",
   "name": "python",
   "nbconvert_exporter": "python",
   "pygments_lexer": "ipython3",
   "version": "3.8.2"
  }
 },
 "nbformat": 4,
 "nbformat_minor": 4
}

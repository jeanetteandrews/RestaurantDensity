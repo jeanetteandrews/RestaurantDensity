{
 "cells": [
  {
   "cell_type": "markdown",
   "metadata": {},
   "source": [
    "## For Figuring Out Hot Encoding"
   ]
  },
  {
   "cell_type": "code",
   "execution_count": 1,
   "metadata": {},
   "outputs": [],
   "source": [
    "import pandas as pd"
   ]
  },
  {
   "cell_type": "markdown",
   "metadata": {},
   "source": [
    "### Getting the data we want for the chi-squares contigency table"
   ]
  },
  {
   "cell_type": "code",
   "execution_count": 2,
   "metadata": {},
   "outputs": [],
   "source": [
    "rest = pd.read_csv('final_restaurants.csv')"
   ]
  },
  {
   "cell_type": "code",
   "execution_count": 4,
   "metadata": {},
   "outputs": [],
   "source": [
    "pd.set_option('display.max_columns', None)"
   ]
  },
  {
   "cell_type": "code",
   "execution_count": 8,
   "metadata": {
    "scrolled": true
   },
   "outputs": [],
   "source": [
    "rest = rest[['name', 'address', 'Code', 'Place', 'is chain']]"
   ]
  },
  {
   "cell_type": "code",
   "execution_count": 12,
   "metadata": {},
   "outputs": [],
   "source": [
    "rest = rest.rename({'Code':'code', 'Place':'place', 'is chain': 'is_chain'}, axis=1)"
   ]
  },
  {
   "cell_type": "code",
   "execution_count": 13,
   "metadata": {},
   "outputs": [
    {
     "data": {
      "text/html": [
       "<div>\n",
       "<style scoped>\n",
       "    .dataframe tbody tr th:only-of-type {\n",
       "        vertical-align: middle;\n",
       "    }\n",
       "\n",
       "    .dataframe tbody tr th {\n",
       "        vertical-align: top;\n",
       "    }\n",
       "\n",
       "    .dataframe thead th {\n",
       "        text-align: right;\n",
       "    }\n",
       "</style>\n",
       "<table border=\"1\" class=\"dataframe\">\n",
       "  <thead>\n",
       "    <tr style=\"text-align: right;\">\n",
       "      <th></th>\n",
       "      <th>name</th>\n",
       "      <th>address</th>\n",
       "      <th>code</th>\n",
       "      <th>place</th>\n",
       "      <th>is_chain</th>\n",
       "    </tr>\n",
       "  </thead>\n",
       "  <tbody>\n",
       "    <tr>\n",
       "      <th>0</th>\n",
       "      <td>starbucks</td>\n",
       "      <td>1001 W 12th Ave, Vancouver, BC V6H 0A5, Canada</td>\n",
       "      <td>V6H</td>\n",
       "      <td>Vancouver (West Fairview / Granville Island / ...</td>\n",
       "      <td>True</td>\n",
       "    </tr>\n",
       "    <tr>\n",
       "      <th>1</th>\n",
       "      <td>waves</td>\n",
       "      <td>1095 BC-7, Vancouver, BC V6H 0A8, Canada</td>\n",
       "      <td>V6H</td>\n",
       "      <td>Vancouver (West Fairview / Granville Island / ...</td>\n",
       "      <td>True</td>\n",
       "    </tr>\n",
       "    <tr>\n",
       "      <th>2</th>\n",
       "      <td>mcdonald's</td>\n",
       "      <td>1482 BC-7, Vancouver, BC V6H 4E8, Canada</td>\n",
       "      <td>V6H</td>\n",
       "      <td>Vancouver (West Fairview / Granville Island / ...</td>\n",
       "      <td>True</td>\n",
       "    </tr>\n",
       "    <tr>\n",
       "      <th>3</th>\n",
       "      <td>denny's</td>\n",
       "      <td>1296 W Broadway, Vancouver, BC V6H 1G6, Canada</td>\n",
       "      <td>V6H</td>\n",
       "      <td>Vancouver (West Fairview / Granville Island / ...</td>\n",
       "      <td>True</td>\n",
       "    </tr>\n",
       "    <tr>\n",
       "      <th>4</th>\n",
       "      <td>the keg</td>\n",
       "      <td>1499 Duranleau St, Vancouver, BC V6H 3S3, Canada</td>\n",
       "      <td>V6H</td>\n",
       "      <td>Vancouver (West Fairview / Granville Island / ...</td>\n",
       "      <td>True</td>\n",
       "    </tr>\n",
       "    <tr>\n",
       "      <th>...</th>\n",
       "      <td>...</td>\n",
       "      <td>...</td>\n",
       "      <td>...</td>\n",
       "      <td>...</td>\n",
       "      <td>...</td>\n",
       "    </tr>\n",
       "    <tr>\n",
       "      <th>5096</th>\n",
       "      <td>browns socialhouse</td>\n",
       "      <td>1665 56 St, Delta, BC V4L 2B2, Canada</td>\n",
       "      <td>V4L</td>\n",
       "      <td>Delta Southeast</td>\n",
       "      <td>False</td>\n",
       "    </tr>\n",
       "    <tr>\n",
       "      <th>5097</th>\n",
       "      <td>wood n frog coffee company</td>\n",
       "      <td>5694 12 Ave, Delta, BC V4L 1C4, Canada</td>\n",
       "      <td>V4L</td>\n",
       "      <td>Delta Southeast</td>\n",
       "      <td>False</td>\n",
       "    </tr>\n",
       "    <tr>\n",
       "      <th>5098</th>\n",
       "      <td>ridge garden</td>\n",
       "      <td>4017 Macdonald St, Vancouver, BC V6L 2N8, Canada</td>\n",
       "      <td>V6L</td>\n",
       "      <td>Vancouver (NW Arbutus Ridge)</td>\n",
       "      <td>False</td>\n",
       "    </tr>\n",
       "    <tr>\n",
       "      <th>5099</th>\n",
       "      <td>kanaka creek coffee</td>\n",
       "      <td>24155 102 Ave, Maple Ridge, BC V2W 2C6, Canada</td>\n",
       "      <td>V2W</td>\n",
       "      <td>Maple Ridge East</td>\n",
       "      <td>False</td>\n",
       "    </tr>\n",
       "    <tr>\n",
       "      <th>5100</th>\n",
       "      <td>delany's coffee</td>\n",
       "      <td>1233 - 1277 Lynn Valley Rd, North Vancouver, B...</td>\n",
       "      <td>V7K</td>\n",
       "      <td>North Vancouver North Central</td>\n",
       "      <td>False</td>\n",
       "    </tr>\n",
       "  </tbody>\n",
       "</table>\n",
       "<p>5101 rows × 5 columns</p>\n",
       "</div>"
      ],
      "text/plain": [
       "                            name  \\\n",
       "0                      starbucks   \n",
       "1                          waves   \n",
       "2                     mcdonald's   \n",
       "3                        denny's   \n",
       "4                        the keg   \n",
       "...                          ...   \n",
       "5096          browns socialhouse   \n",
       "5097  wood n frog coffee company   \n",
       "5098                ridge garden   \n",
       "5099         kanaka creek coffee   \n",
       "5100             delany's coffee   \n",
       "\n",
       "                                                address code  \\\n",
       "0        1001 W 12th Ave, Vancouver, BC V6H 0A5, Canada  V6H   \n",
       "1              1095 BC-7, Vancouver, BC V6H 0A8, Canada  V6H   \n",
       "2              1482 BC-7, Vancouver, BC V6H 4E8, Canada  V6H   \n",
       "3        1296 W Broadway, Vancouver, BC V6H 1G6, Canada  V6H   \n",
       "4      1499 Duranleau St, Vancouver, BC V6H 3S3, Canada  V6H   \n",
       "...                                                 ...  ...   \n",
       "5096              1665 56 St, Delta, BC V4L 2B2, Canada  V4L   \n",
       "5097             5694 12 Ave, Delta, BC V4L 1C4, Canada  V4L   \n",
       "5098   4017 Macdonald St, Vancouver, BC V6L 2N8, Canada  V6L   \n",
       "5099     24155 102 Ave, Maple Ridge, BC V2W 2C6, Canada  V2W   \n",
       "5100  1233 - 1277 Lynn Valley Rd, North Vancouver, B...  V7K   \n",
       "\n",
       "                                                  place  is_chain  \n",
       "0     Vancouver (West Fairview / Granville Island / ...      True  \n",
       "1     Vancouver (West Fairview / Granville Island / ...      True  \n",
       "2     Vancouver (West Fairview / Granville Island / ...      True  \n",
       "3     Vancouver (West Fairview / Granville Island / ...      True  \n",
       "4     Vancouver (West Fairview / Granville Island / ...      True  \n",
       "...                                                 ...       ...  \n",
       "5096                                    Delta Southeast     False  \n",
       "5097                                    Delta Southeast     False  \n",
       "5098                       Vancouver (NW Arbutus Ridge)     False  \n",
       "5099                                   Maple Ridge East     False  \n",
       "5100                      North Vancouver North Central     False  \n",
       "\n",
       "[5101 rows x 5 columns]"
      ]
     },
     "execution_count": 13,
     "metadata": {},
     "output_type": "execute_result"
    }
   ],
   "source": [
    "rest"
   ]
  },
  {
   "cell_type": "code",
   "execution_count": 15,
   "metadata": {},
   "outputs": [],
   "source": [
    "cont_table = rest[['name','code', 'is_chain']]"
   ]
  },
  {
   "cell_type": "markdown",
   "metadata": {},
   "source": [
    "### Hot encoding"
   ]
  },
  {
   "cell_type": "code",
   "execution_count": null,
   "metadata": {},
   "outputs": [],
   "source": []
  }
 ],
 "metadata": {
  "kernelspec": {
   "display_name": "Python 3",
   "language": "python",
   "name": "python3"
  },
  "language_info": {
   "codemirror_mode": {
    "name": "ipython",
    "version": 3
   },
   "file_extension": ".py",
   "mimetype": "text/x-python",
   "name": "python",
   "nbconvert_exporter": "python",
   "pygments_lexer": "ipython3",
   "version": "3.7.7"
  }
 },
 "nbformat": 4,
 "nbformat_minor": 4
}
